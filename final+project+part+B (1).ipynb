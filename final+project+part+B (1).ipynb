{
 "cells": [
  {
   "cell_type": "markdown",
   "metadata": {},
   "source": [
    "# Final Project - Part B - Classifier"
   ]
  },
  {
   "cell_type": "markdown",
   "metadata": {},
   "source": [
    "## Loading Data"
   ]
  },
  {
   "cell_type": "code",
   "execution_count": 1,
   "metadata": {
    "collapsed": false
   },
   "outputs": [
    {
     "data": {
      "text/plain": [
       "0    one  two  three  four   well  she was just sev...\n",
       "1    the world is treating me bad misery  i'm the k...\n",
       "2    anna you come and ask me  girl to set you free...\n",
       "Name: lyrics, dtype: object"
      ]
     },
     "execution_count": 1,
     "metadata": {},
     "output_type": "execute_result"
    }
   ],
   "source": [
    "import pandas as pd\n",
    "\n",
    "df = pd.read_csv('songs.csv')#, index_col=['headline'])\n",
    "lyrics= df['lyrics']\n",
    "lyrics.head(3)"
   ]
  },
  {
   "cell_type": "markdown",
   "metadata": {},
   "source": [
    "## Prepare Vocabulary"
   ]
  },
  {
   "cell_type": "markdown",
   "metadata": {},
   "source": [
    "After loading the data we would like to builde a vocabulary. we will remove the stop word for saving only meaningful words. and use Stemming to reduce inflected words"
   ]
  },
  {
   "cell_type": "code",
   "execution_count": 2,
   "metadata": {
    "collapsed": false
   },
   "outputs": [],
   "source": [
    "import nltk\n",
    "from nltk.corpus import stopwords \n",
    "\n",
    "stop_words=stopwords.words(\"english\") \n",
    "song_lyrics=lyrics\n",
    "\n",
    "\n",
    "def impotenr_words (song_lyrics):\n",
    "    #remove stop words\n",
    "    words = nltk.word_tokenize(song_lyrics)\n",
    "    words = [w for w in words if not w in stopwords.words(\"english\")]\n",
    "    # Stemming\n",
    "    porter = nltk.PorterStemmer()\n",
    "    #lancaster = nltk.LancasterStemmer()\n",
    "    words=[porter.stem(w) for w in words]   \n",
    "    #print len([lancaster.stem(w) for w in words]) \n",
    "    return  \" \".join( words )\n",
    "song_lyrics=map (impotenr_words,song_lyrics)"
   ]
  },
  {
   "cell_type": "markdown",
   "metadata": {},
   "source": [
    "we will create bag of words of all words"
   ]
  },
  {
   "cell_type": "code",
   "execution_count": 13,
   "metadata": {
    "collapsed": false
   },
   "outputs": [
    {
     "name": "stdout",
     "output_type": "stream",
     "text": [
      "Vocabulary size is: 8606\n",
      "(1, u'12x')\n",
      "(1, u'151')\n",
      "(1, u'175')\n",
      "(1, u'19')\n",
      "(1, u'1998')\n",
      "(1, u'23')\n",
      "(1, u'28')\n",
      "(1, u'29')\n",
      "(1, u'2nd')\n",
      "(1, u'2paclyps')\n"
     ]
    }
   ],
   "source": [
    "from sklearn.feature_extraction.text import CountVectorizer\n",
    "\n",
    "# Initialize the \"CountVectorizer\"  \n",
    "vectorizer = CountVectorizer(analyzer = \"word\",   \\\n",
    "                             tokenizer = None,    \\\n",
    "                             preprocessor = None, \\\n",
    "                             stop_words = None,   \\\n",
    "                              ) \n",
    "\n",
    "train_data_features = vectorizer.fit_transform(song_lyrics)\n",
    "train_data_features = train_data_features.toarray()\n",
    "vocab = vectorizer.get_feature_names()\n",
    "\n",
    "#check Vocabelry size\n",
    "print (\"Vocabulary size is: \"+str(len(vocab)))\n",
    "                 \n",
    "import numpy as np\n",
    "\n",
    "# Sum up the counts of each vocabulary word\n",
    "dist = np.sum(train_data_features, axis=0)\n",
    "\n",
    "#print the lowst 10\n",
    "for tag, count in sorted(zip(vocab, dist) ,key=lambda song: song[1])[0:10]:\n",
    "    print(count, tag)      "
   ]
  },
  {
   "cell_type": "markdown",
   "metadata": {},
   "source": [
    "we can see there are 8606 words in our vocubelry. many of them appear once so lets take the top 10% using the max_features atribbute"
   ]
  },
  {
   "cell_type": "code",
   "execution_count": 4,
   "metadata": {
    "collapsed": false
   },
   "outputs": [
    {
     "name": "stdout",
     "output_type": "stream",
     "text": [
      "new vocabulary size is: 860\n"
     ]
    }
   ],
   "source": [
    "# Initialize the \"CountVectorizer\"  using max_features as 10% of all features \n",
    "vectorizer = CountVectorizer(analyzer = \"word\",   \\\n",
    "                             tokenizer = None,    \\\n",
    "                             preprocessor = None, \\\n",
    "                             stop_words = None,   \\\n",
    "                             max_features =int (len(vocab)*0.1) \n",
    "                              ) \n",
    "\n",
    "train_data_features = vectorizer.fit_transform(song_lyrics)\n",
    "\n",
    "\n",
    "train_data_features = train_data_features.toarray() \n",
    "\n",
    "vocab = vectorizer.get_feature_names()\n",
    "#check Vocabelry size\n",
    "print (\"new vocabulary size is: \"+str(len(vocab)))"
   ]
  },
  {
   "cell_type": "markdown",
   "metadata": {},
   "source": [
    "## Train Model"
   ]
  },
  {
   "cell_type": "markdown",
   "metadata": {},
   "source": [
    "### Random Forst 1"
   ]
  },
  {
   "cell_type": "code",
   "execution_count": 5,
   "metadata": {
    "collapsed": false
   },
   "outputs": [
    {
     "name": "stdout",
     "output_type": "stream",
     "text": [
      "[ 0.84745763  0.74576271  0.89830508  0.89655172  0.92982456  0.98245614\n",
      "  0.89285714  0.85714286  0.875       0.94642857]\n"
     ]
    }
   ],
   "source": [
    "from sklearn.ensemble import RandomForestClassifier\n",
    "from sklearn.cross_validation import cross_val_score\n",
    "import numpy as np\n",
    "#cross valdition wirh RandomForestClassifier\n",
    "cross_val1=(cross_val_score(RandomForestClassifier(n_estimators = 100)  , train_data_features, df[\"singer\"],cv=10))  \n",
    "print (cross_val1)\n"
   ]
  },
  {
   "cell_type": "markdown",
   "metadata": {},
   "source": [
    "this  results are not bad. but we mybe choose the top 10% words is not the best way to choose the vocabulery size.Mybe take the words that apeer in at least 10% of the songs is better way to calsffier singer lyrics .\n",
    "\n",
    "We will try choose the vocabulry that way using the min_df feature"
   ]
  },
  {
   "cell_type": "markdown",
   "metadata": {},
   "source": [
    "### Random Forst 2"
   ]
  },
  {
   "cell_type": "code",
   "execution_count": 7,
   "metadata": {
    "collapsed": false
   },
   "outputs": [
    {
     "name": "stdout",
     "output_type": "stream",
     "text": [
      "new vocabulary size is: 186\n"
     ]
    }
   ],
   "source": [
    "# Initialize the \"CountVectorizer\"  using max_features as 10% of all features \n",
    "vectorizer2 = CountVectorizer(analyzer = \"word\",   \\\n",
    "                             tokenizer = None,    \\\n",
    "                             preprocessor = None, \\\n",
    "                             stop_words = None,   \\\n",
    "                             min_df  =int (len(song_lyrics)*0.10) \n",
    "                              ) \n",
    "\n",
    "train_data_features2 = vectorizer2.fit_transform(song_lyrics)\n",
    "\n",
    "\n",
    "train_data_features2 = train_data_features2.toarray() \n",
    "\n",
    "vocab = vectorizer2.get_feature_names()\n",
    "#check Vocabelry size\n",
    "print (\"new vocabulary size is: \"+str(len(vocab)))\n",
    "#cross valdition wirh RandomForestClassifier\n",
    "cross_val2=(cross_val_score(RandomForestClassifier(n_estimators = 100)  , train_data_features2, df[\"singer\"],cv=10))  "
   ]
  },
  {
   "cell_type": "markdown",
   "metadata": {},
   "source": [
    "## Tf_Idf "
   ]
  },
  {
   "cell_type": "markdown",
   "metadata": {},
   "source": [
    "we will do also model based on tf-idf"
   ]
  },
  {
   "cell_type": "code",
   "execution_count": 8,
   "metadata": {
    "collapsed": false
   },
   "outputs": [],
   "source": [
    "from sklearn.feature_extraction.text import TfidfVectorizer\n",
    "tfidfvectorizer = TfidfVectorizer(analyzer = \"word\",tokenizer = None, ngram_range=(1,3), max_features = 200, stop_words = None,min_df=1, use_idf=True)\n",
    "tfidf_matrix = tfidfvectorizer.fit_transform(song_lyrics)\n",
    "#cross valdition wirh RandomForestClassifier\n",
    "cross_val3=(cross_val_score(RandomForestClassifier(n_estimators = 100)  , tfidf_matrix, df[\"singer\"],cv=10))  \n"
   ]
  },
  {
   "cell_type": "code",
   "execution_count": 9,
   "metadata": {
    "collapsed": false
   },
   "outputs": [
    {
     "data": {
      "image/png": "[encoded data removed]",
      "text/plain": [
       "<matplotlib.figure.Figure at 0x1071e940>"
      ]
     },
     "metadata": {},
     "output_type": "display_data"
    }
   ],
   "source": [
    "import matplotlib.pyplot as plt\n",
    "\n",
    "t = np.arange(1, 11, 1)\n",
    "plt.plot(t,sorted(cross_val1) ,'r--',label='top 10% Words' )\n",
    "plt.plot(t,sorted(cross_val2), 'b',label='IN 10% of documents')\n",
    "plt.plot(t, sorted(cross_val3), 'g',label='tf-idf')\n",
    "plt.ylabel('score')\n",
    "plt.xlabel('Val_stpe')\n",
    "plt.title('Comparing models')\n",
    "plt.legend(loc='upper center')\n",
    "plt.show()"
   ]
  },
  {
   "cell_type": "code",
   "execution_count": 10,
   "metadata": {
    "collapsed": false
   },
   "outputs": [
    {
     "name": "stdout",
     "output_type": "stream",
     "text": [
      "top 10% Words mean score=0.887178642105\n",
      "IN 10% of documents mean score=0.888815166935\n",
      "tf-idf mean score mean score=0.876435188644\n"
     ]
    }
   ],
   "source": [
    "print (\"top 10% Words mean score=\" + str(cross_val1.mean()))\n",
    "print (\"IN 10% of documents mean score=\" + str(cross_val2.mean()))\n",
    "print (\"tf-idf mean score mean score=\" + str(cross_val3.mean()))"
   ]
  },
  {
   "cell_type": "markdown",
   "metadata": {},
   "source": [
    "From comparing the three models we can see that all tree give almost the same result so we will choose the \"IN 10% of documents\" because it mean score is a little bit better and it has the smalles number of features.\n",
    "\n",
    "We will split the data set for train and test and train the modle"
   ]
  },
  {
   "cell_type": "code",
   "execution_count": 11,
   "metadata": {
    "collapsed": false
   },
   "outputs": [
    {
     "data": {
      "text/plain": [
       "0.90163934426229508"
      ]
     },
     "execution_count": 11,
     "metadata": {},
     "output_type": "execute_result"
    }
   ],
   "source": [
    "#split to train & test\n",
    "msk = np.random.rand(len(song_lyrics)) < 0.8\n",
    "train_x = train_data_features2[msk]\n",
    "test_x = train_data_features2[~msk]\n",
    "train_y = df.loc[msk,\"singer\"]\n",
    "test_y = df.loc[~msk,\"singer\"]\n",
    "\n",
    "# Initialize a Random Forest classifier with 100 trees\n",
    "forest = RandomForestClassifier(n_estimators = 100) \n",
    "\n",
    "# Fit the forest to the training set, using the bag of words as \n",
    "# features and the sentiment labels as the response variable\n",
    "#\n",
    "# This may take a few minutes to run\n",
    "forest = forest.fit( train_x, train_y )\n",
    "\n",
    "# Evaluate accuracy best on the test set\n",
    "forest.score(test_x,test_y)"
   ]
  },
  {
   "cell_type": "markdown",
   "metadata": {},
   "source": [
    "we have 90% accuracy for this tarin\\test set  and 89% with the cross validtion not bad result!"
   ]
  }
 ],
 "metadata": {
  "anaconda-cloud": {},
  "kernelspec": {
   "display_name": "Python [conda root]",
   "language": "python",
   "name": "conda-root-py"
  },
  "language_info": {
   "codemirror_mode": {
    "name": "ipython",
    "version": 2
   },
   "file_extension": ".py",
   "mimetype": "text/x-python",
   "name": "python",
   "nbconvert_exporter": "python",
   "pygments_lexer": "ipython2",
   "version": "2.7.12"
  }
 },
 "nbformat": 4,
 "nbformat_minor": 1
}
