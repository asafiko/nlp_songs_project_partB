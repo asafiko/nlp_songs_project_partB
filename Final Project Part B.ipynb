{
 "cells": [
  {
   "cell_type": "markdown",
   "metadata": {},
   "source": [
    "# Final Project - Part B - Classification"
   ]
  },
  {
   "cell_type": "markdown",
   "metadata": {},
   "source": [
    "## Loading the data\n",
    "\n",
    "First, we will load the data we prepared in the previous task."
   ]
  },
  {
   "cell_type": "code",
   "execution_count": 1,
   "metadata": {
    "collapsed": false
   },
   "outputs": [
    {
     "data": {
      "text/plain": [
       "0    one  two  three  four   well  she was just sev...\n",
       "1    the world is treating me bad misery  i'm the k...\n",
       "2    anna you come and ask me  girl to set you free...\n",
       "Name: lyrics, dtype: object"
      ]
     },
     "execution_count": 1,
     "metadata": {},
     "output_type": "execute_result"
    }
   ],
   "source": [
    "import pandas as pd\n",
    "\n",
    "df = pd.read_csv('songs.csv')\n",
    "lyrics = df['lyrics']\n",
    "lyrics.head(3)"
   ]
  },
  {
   "cell_type": "markdown",
   "metadata": {},
   "source": [
    "## Preparing the vocabulary"
   ]
  },
  {
   "cell_type": "markdown",
   "metadata": {},
   "source": [
    "After loading the data we would like to builde a vocabulary.  \n",
    "We will remove the stop word for saving only meaningful words, and then we will use Stemming to reduce inflected words."
   ]
  },
  {
   "cell_type": "code",
   "execution_count": 16,
   "metadata": {
    "collapsed": false
   },
   "outputs": [],
   "source": [
    "import nltk\n",
    "from nltk.corpus import stopwords\n",
    "\n",
    "stop_words = stopwords.words(\"english\")\n",
    "\n",
    "def important_words(song_lyrics):\n",
    "    # remove stop words\n",
    "    words = nltk.word_tokenize(song_lyrics)\n",
    "    words = [w for w in words if not w in stop_words]\n",
    "    # Stemming\n",
    "    porter = nltk.PorterStemmer()\n",
    "    words = [porter.stem(w) for w in words]\n",
    "    return \" \".join(words)\n",
    "\n",
    "song_lyrics = [important_words(l) for l in lyrics]"
   ]
  },
  {
   "cell_type": "markdown",
   "metadata": {},
   "source": [
    "Now, we that we have cleaned up the lyrics texts, we will create bag of words of all words."
   ]
  },
  {
   "cell_type": "code",
   "execution_count": 17,
   "metadata": {
    "collapsed": false
   },
   "outputs": [
    {
     "name": "stdout",
     "output_type": "stream",
     "text": [
      "Vocabulary size is: 8606\n",
      "1 12x\n",
      "1 151\n",
      "1 175\n",
      "1 19\n",
      "1 1998\n",
      "1 23\n",
      "1 28\n",
      "1 29\n",
      "1 2nd\n",
      "1 2paclyps\n"
     ]
    }
   ],
   "source": [
    "from sklearn.feature_extraction.text import CountVectorizer\n",
    "import numpy as np\n",
    "\n",
    "# Initialize the \"CountVectorizer\"  \n",
    "vectorizer = CountVectorizer(analyzer=\"word\", tokenizer=None, \n",
    "                             preprocessor=None, stop_words=None) \n",
    "\n",
    "train_data_features = vectorizer.fit_transform(song_lyrics[:])\n",
    "train_data_features = train_data_features.toarray()\n",
    "\n",
    "# Print the vocabulary size\n",
    "vocab = vectorizer.get_feature_names()\n",
    "print(\"Vocabulary size is: \" + str(len(vocab)))\n",
    "\n",
    "# Sum up the counts of each vocabulary word\n",
    "dist = np.sum(train_data_features, axis=0)\n",
    "\n",
    "# Print the lowest 10 frequencies\n",
    "for tag, count in sorted(zip(vocab, dist) ,key=lambda song: song[1])[0:10]:\n",
    "    print(count, tag)      "
   ]
  },
  {
   "cell_type": "markdown",
   "metadata": {},
   "source": [
    "We can see that there are 8606 words in our vocabulary.  \n",
    "Many of them appear once, so lets take the top 10% using the max_features attribute."
   ]
  },
  {
   "cell_type": "code",
   "execution_count": 18,
   "metadata": {
    "collapsed": false
   },
   "outputs": [
    {
     "name": "stdout",
     "output_type": "stream",
     "text": [
      "New vocabulary size is: 860\n"
     ]
    }
   ],
   "source": [
    "# Initialize the \"CountVectorizer\" using max_features as 10% of all features \n",
    "vectorizer = CountVectorizer(analyzer=\"word\", tokenizer=None, \n",
    "                             preprocessor=None, stop_words=None, \n",
    "                             max_features=int(len(vocab) * 0.1)) \n",
    "\n",
    "train_data_features = vectorizer.fit_transform(song_lyrics[:])\n",
    "train_data_features = train_data_features.toarray() \n",
    "\n",
    "# Print the vocabulary size\n",
    "vocab = vectorizer.get_feature_names()\n",
    "print(\"New vocabulary size is: \" + str(len(vocab)))"
   ]
  },
  {
   "cell_type": "markdown",
   "metadata": {},
   "source": [
    "## Model training\n",
    "\n",
    "We will now train a RandomForestClassifier with 100 estimator with 3 different datasets.  \n",
    "For each one we will calculate the mean accuracy, using 10-fold cross validation."
   ]
  },
  {
   "cell_type": "markdown",
   "metadata": {},
   "source": [
    "### Random Forest 1\n",
    "\n",
    "First we will train a RandomForest model, based on the top 10% of word frequencies."
   ]
  },
  {
   "cell_type": "code",
   "execution_count": 86,
   "metadata": {
    "collapsed": false
   },
   "outputs": [
    {
     "name": "stdout",
     "output_type": "stream",
     "text": [
      "[ 0.86440678  0.74576271  0.91525424  0.93103448  0.94736842  0.96491228\n",
      "  0.91071429  0.875       0.875       0.91071429]\n"
     ]
    }
   ],
   "source": [
    "from sklearn.ensemble import RandomForestClassifier\n",
    "from sklearn.model_selection import cross_val_score\n",
    "\n",
    "# Create a new RandomForestClassifier with 100 estimators\n",
    "forest = RandomForestClassifier(n_estimators=100, random_state=1)\n",
    "\n",
    "# cross validation with RandomForestClassifier\n",
    "cross_val1 = cross_val_score(forest, train_data_features, df[\"singer\"], cv=10)  \n",
    "print(cross_val1)"
   ]
  },
  {
   "cell_type": "markdown",
   "metadata": {},
   "source": [
    "The results are not bad. However, maybe choosing the top 10% words is not the best way to choose the vocabulery size.  "
   ]
  },
  {
   "cell_type": "markdown",
   "metadata": {},
   "source": [
    "### Random Forest 2\n",
    "\n",
    "Maybe we should take the words that appear in at least 10% of the songs, which may give us better way to classify singer lyrics.  \n",
    "Now, we will choose the vocabulary this way, using the min_df attribute."
   ]
  },
  {
   "cell_type": "code",
   "execution_count": 87,
   "metadata": {
    "collapsed": false
   },
   "outputs": [
    {
     "name": "stdout",
     "output_type": "stream",
     "text": [
      "New vocabulary size is: 186\n",
      "[ 0.86440678  0.77966102  0.89830508  0.94827586  0.9122807   0.98245614\n",
      "  0.92857143  0.89285714  0.89285714  0.92857143]\n"
     ]
    }
   ],
   "source": [
    "# Initialize the \"CountVectorizer\"  using max_features as 10% of all features \n",
    "vectorizer2 = CountVectorizer(analyzer=\"word\", tokenizer=None, \n",
    "                              preprocessor=None, stop_words=None, \n",
    "                              min_df=int(len(song_lyrics) * 0.1)) \n",
    "\n",
    "train_data_features2 = vectorizer2.fit_transform(song_lyrics)\n",
    "train_data_features2 = train_data_features2.toarray() \n",
    "\n",
    "# Print the vocabulary size\n",
    "vocab = vectorizer2.get_feature_names()\n",
    "print(\"New vocabulary size is: \" + str(len(vocab)))\n",
    "\n",
    "# cross validation with RandomForestClassifier\n",
    "cross_val2 = cross_val_score(forest, train_data_features2, df[\"singer\"], cv=10)  \n",
    "print(cross_val2)"
   ]
  },
  {
   "cell_type": "markdown",
   "metadata": {},
   "source": [
    "### Random Forest 3\n",
    "\n",
    "We will also want to train a RandomForest model, that is based on tf-idf values."
   ]
  },
  {
   "cell_type": "code",
   "execution_count": 88,
   "metadata": {
    "collapsed": false
   },
   "outputs": [
    {
     "name": "stdout",
     "output_type": "stream",
     "text": [
      "[ 0.84745763  0.76271186  0.89830508  0.93103448  0.9122807   0.89473684\n",
      "  0.89285714  0.89285714  0.85714286  0.89285714]\n"
     ]
    }
   ],
   "source": [
    "from sklearn.feature_extraction.text import TfidfVectorizer\n",
    "\n",
    "tfidfvectorizer = TfidfVectorizer(analyzer=\"word\", tokenizer=None, \n",
    "                                  ngram_range=(1,3), max_features=200, \n",
    "                                  stop_words=None, min_df=1, use_idf=True)\n",
    "\n",
    "tfidf_matrix = tfidfvectorizer.fit_transform(song_lyrics)\n",
    "tfidf_matrix = tfidf_matrix.toarray()\n",
    " \n",
    "# cross validation with RandomForestClassifier\n",
    "cross_val3 = cross_val_score(forest, tfidf_matrix, df[\"singer\"], cv=10)  \n",
    "print(cross_val3)"
   ]
  },
  {
   "cell_type": "markdown",
   "metadata": {},
   "source": [
    "### Plotting the results\n",
    "\n",
    "We will now plot the results of the three models, to see which one gives us the best results."
   ]
  },
  {
   "cell_type": "code",
   "execution_count": 89,
   "metadata": {
    "collapsed": false
   },
   "outputs": [
    {
     "data": {
      "image/png": "[encoded data removed]",
      "text/plain": [
       "<matplotlib.figure.Figure at 0x1e3b98087f0>"
      ]
     },
     "metadata": {},
     "output_type": "display_data"
    }
   ],
   "source": [
    "%matplotlib inline\n",
    "import matplotlib.pyplot as plt\n",
    "from matplotlib.pyplot import rcParams\n",
    "rcParams['figure.figsize'] = 10, 6\n",
    "\n",
    "t = np.arange(1, 11, 1)\n",
    "plt.plot(t, sorted(cross_val1), 'r--', label='Top 10% words')\n",
    "plt.plot(t, sorted(cross_val2), 'b', label='In at least 10% of the documents')\n",
    "plt.plot(t, sorted(cross_val3), 'g', label='Using TFIDF')\n",
    "plt.ylabel('Accuracy')\n",
    "plt.xlabel('CV Step')\n",
    "plt.title('Comparing Models')\n",
    "plt.legend(loc='upper center')\n",
    "plt.show()"
   ]
  },
  {
   "cell_type": "code",
   "execution_count": 90,
   "metadata": {
    "collapsed": false
   },
   "outputs": [
    {
     "name": "stdout",
     "output_type": "stream",
     "text": [
      "'Top 10% Words' mean accuracy is 0.8940\n",
      "'In at least 10% of the documents' mean accuracy is 0.9028\n",
      "'Using TFIDF' mean accuracy is 0.8782\n"
     ]
    }
   ],
   "source": [
    "print(\"'Top 10%% Words' mean accuracy is %0.4f\" % cross_val1.mean())\n",
    "print(\"'In at least 10%% of the documents' mean accuracy is %0.4f\" % cross_val2.mean())\n",
    "print(\"'Using TFIDF' mean accuracy is %0.4f\" % cross_val3.mean())"
   ]
  },
  {
   "cell_type": "markdown",
   "metadata": {},
   "source": [
    "From the comparison of the three models, we can see that all three give almost the same accuracy. So, we will choose the model \"In at least 10% of the documents\" because its mean accuracy is slightly better and it has less features.\n",
    "\n",
    "### Final model\n",
    "\n",
    "We will now split the dataset into two set - train set and test set, and based on them we will train our model and check its result."
   ]
  },
  {
   "cell_type": "code",
   "execution_count": 92,
   "metadata": {
    "collapsed": false
   },
   "outputs": [
    {
     "name": "stdout",
     "output_type": "stream",
     "text": [
      "Accuracy: 0.92\n"
     ]
    }
   ],
   "source": [
    "from sklearn.model_selection import train_test_split\n",
    "\n",
    "# Split to train & test of the dataset of 'In at least 10% of the documents'\n",
    "x = train_data_features2\n",
    "y = df['singer']\n",
    "\n",
    "# We will split \n",
    "train_x, test_x, train_y, test_y = train_test_split(train_data_features2, y, test_size=0.2, random_state=123)\n",
    "\n",
    "# We will use the Random Forest classifier we created and fit\n",
    "# the forest to the training set, using the bag of words as \n",
    "# features and the singer labels as the response variable\n",
    "forest = forest.fit(train_x, train_y)\n",
    "\n",
    "# Evaluate accuracy best on the test set\n",
    "print(\"Accuracy: %0.2f\" % forest.score(test_x, test_y))"
   ]
  },
  {
   "cell_type": "markdown",
   "metadata": {},
   "source": [
    "Our model has an accuracy of **92%** for this train set and test set, and a mean accuracy of **90.28%** with the 10-fold cross-validation, which are not bad results!"
   ]
  },
  {
   "cell_type": "code",
   "execution_count": null,
   "metadata": {
    "collapsed": true
   },
   "outputs": [],
   "source": []
  }
 ],
 "metadata": {
  "anaconda-cloud": {},
  "kernelspec": {
   "display_name": "Python [conda root]",
   "language": "python",
   "name": "conda-root-py"
  },
  "language_info": {
   "codemirror_mode": {
    "name": "ipython",
    "version": 3
   },
   "file_extension": ".py",
   "mimetype": "text/x-python",
   "name": "python",
   "nbconvert_exporter": "python",
   "pygments_lexer": "ipython3",
   "version": "3.5.2"
  }
 },
 "nbformat": 4,
 "nbformat_minor": 1
}
